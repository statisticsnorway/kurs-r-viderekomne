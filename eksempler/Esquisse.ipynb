{
 "cells": [
  {
   "cell_type": "markdown",
   "id": "f83618e0-0f68-4003-b66b-94c756d68baf",
   "metadata": {},
   "source": [
    "# Bruk av esquisse"
   ]
  },
  {
   "cell_type": "markdown",
   "id": "868ce025-be44-45a0-85a5-42e73d28dd2f",
   "metadata": {},
   "source": [
    "### Load inn bibliotekene\n",
    "For å ta i bruk esquisse må vi hente inn biblioteket \"esquisse\". Dette er en del av kurs-miljø vi har sett opp. Ved å kjøre `autoload` vil alle de pakkene som trengs på kurset bli installerte/tilgjengelig for deg. "
   ]
  },
  {
   "cell_type": "code",
   "execution_count": 1,
   "id": "a8ecd1bf-4f1e-48f0-91a0-412765e61f7c",
   "metadata": {},
   "outputs": [],
   "source": [
    "renv::autoload()"
   ]
  },
  {
   "cell_type": "markdown",
   "id": "11fba677-0cc4-4f6c-97ab-fd7adde4669f",
   "metadata": {},
   "source": [
    "Les inn pakken `esquisse` og wrapper-funksjone som er i en tilleggsfil."
   ]
  },
  {
   "cell_type": "code",
   "execution_count": 6,
   "id": "31d5cbbc-20a5-421c-a8b4-03a3b11fa199",
   "metadata": {},
   "outputs": [],
   "source": [
    "library(esquisse)\n",
    "source('esquisse_wrapper.R')"
   ]
  },
  {
   "cell_type": "markdown",
   "id": "7cf57d97-46d2-4bc8-91b0-7d53fe2a2e4a",
   "metadata": {},
   "source": [
    "### Less inn kommune data"
   ]
  },
  {
   "cell_type": "code",
   "execution_count": 11,
   "id": "d9b26367-fa82-4549-9e00-59d8eb93c1f5",
   "metadata": {},
   "outputs": [
    {
     "data": {
      "text/html": [
       "<table class=\"dataframe\">\n",
       "<caption>A data.frame: 6 × 9</caption>\n",
       "<thead>\n",
       "\t<tr><th></th><th scope=col>tid</th><th scope=col>region</th><th scope=col>kjonn</th><th scope=col>bruttoinnt</th><th scope=col>allm_innt</th><th scope=col>folkemengde</th><th scope=col>ald_pensjonist_over_62</th><th scope=col>ant_trangbodde</th><th scope=col>ant_selveiere</th></tr>\n",
       "\t<tr><th></th><th scope=col>&lt;int&gt;</th><th scope=col>&lt;int&gt;</th><th scope=col>&lt;int&gt;</th><th scope=col>&lt;dbl&gt;</th><th scope=col>&lt;dbl&gt;</th><th scope=col>&lt;int&gt;</th><th scope=col>&lt;int&gt;</th><th scope=col>&lt;int&gt;</th><th scope=col>&lt;int&gt;</th></tr>\n",
       "</thead>\n",
       "<tbody>\n",
       "\t<tr><th scope=row>1</th><td>2015</td><td>0</td><td>1</td><td>530100</td><td>404600</td><td>2076912</td><td>395370</td><td>271712</td><td>1830278</td></tr>\n",
       "\t<tr><th scope=row>2</th><td>2016</td><td>0</td><td>1</td><td>522900</td><td>404300</td><td>2107857</td><td>408246</td><td>273420</td><td>1846632</td></tr>\n",
       "\t<tr><th scope=row>3</th><td>2017</td><td>0</td><td>1</td><td>533900</td><td>412900</td><td>2136547</td><td>420070</td><td>276036</td><td>1854828</td></tr>\n",
       "\t<tr><th scope=row>4</th><td>2015</td><td>0</td><td>2</td><td>354000</td><td>252300</td><td>2095892</td><td>429971</td><td>253427</td><td>1776385</td></tr>\n",
       "\t<tr><th scope=row>5</th><td>2016</td><td>0</td><td>2</td><td>359000</td><td>258000</td><td>2121992</td><td>440740</td><td>255581</td><td>1792024</td></tr>\n",
       "\t<tr><th scope=row>6</th><td>2017</td><td>0</td><td>2</td><td>369600</td><td>264600</td><td>2146637</td><td>449893</td><td>259362</td><td>1800508</td></tr>\n",
       "</tbody>\n",
       "</table>\n"
      ],
      "text/latex": [
       "A data.frame: 6 × 9\n",
       "\\begin{tabular}{r|lllllllll}\n",
       "  & tid & region & kjonn & bruttoinnt & allm\\_innt & folkemengde & ald\\_pensjonist\\_over\\_62 & ant\\_trangbodde & ant\\_selveiere\\\\\n",
       "  & <int> & <int> & <int> & <dbl> & <dbl> & <int> & <int> & <int> & <int>\\\\\n",
       "\\hline\n",
       "\t1 & 2015 & 0 & 1 & 530100 & 404600 & 2076912 & 395370 & 271712 & 1830278\\\\\n",
       "\t2 & 2016 & 0 & 1 & 522900 & 404300 & 2107857 & 408246 & 273420 & 1846632\\\\\n",
       "\t3 & 2017 & 0 & 1 & 533900 & 412900 & 2136547 & 420070 & 276036 & 1854828\\\\\n",
       "\t4 & 2015 & 0 & 2 & 354000 & 252300 & 2095892 & 429971 & 253427 & 1776385\\\\\n",
       "\t5 & 2016 & 0 & 2 & 359000 & 258000 & 2121992 & 440740 & 255581 & 1792024\\\\\n",
       "\t6 & 2017 & 0 & 2 & 369600 & 264600 & 2146637 & 449893 & 259362 & 1800508\\\\\n",
       "\\end{tabular}\n"
      ],
      "text/markdown": [
       "\n",
       "A data.frame: 6 × 9\n",
       "\n",
       "| <!--/--> | tid &lt;int&gt; | region &lt;int&gt; | kjonn &lt;int&gt; | bruttoinnt &lt;dbl&gt; | allm_innt &lt;dbl&gt; | folkemengde &lt;int&gt; | ald_pensjonist_over_62 &lt;int&gt; | ant_trangbodde &lt;int&gt; | ant_selveiere &lt;int&gt; |\n",
       "|---|---|---|---|---|---|---|---|---|---|\n",
       "| 1 | 2015 | 0 | 1 | 530100 | 404600 | 2076912 | 395370 | 271712 | 1830278 |\n",
       "| 2 | 2016 | 0 | 1 | 522900 | 404300 | 2107857 | 408246 | 273420 | 1846632 |\n",
       "| 3 | 2017 | 0 | 1 | 533900 | 412900 | 2136547 | 420070 | 276036 | 1854828 |\n",
       "| 4 | 2015 | 0 | 2 | 354000 | 252300 | 2095892 | 429971 | 253427 | 1776385 |\n",
       "| 5 | 2016 | 0 | 2 | 359000 | 258000 | 2121992 | 440740 | 255581 | 1792024 |\n",
       "| 6 | 2017 | 0 | 2 | 369600 | 264600 | 2146637 | 449893 | 259362 | 1800508 |\n",
       "\n"
      ],
      "text/plain": [
       "  tid  region kjonn bruttoinnt allm_innt folkemengde ald_pensjonist_over_62\n",
       "1 2015 0      1     530100     404600    2076912     395370                \n",
       "2 2016 0      1     522900     404300    2107857     408246                \n",
       "3 2017 0      1     533900     412900    2136547     420070                \n",
       "4 2015 0      2     354000     252300    2095892     429971                \n",
       "5 2016 0      2     359000     258000    2121992     440740                \n",
       "6 2017 0      2     369600     264600    2146637     449893                \n",
       "  ant_trangbodde ant_selveiere\n",
       "1 271712         1830278      \n",
       "2 273420         1846632      \n",
       "3 276036         1854828      \n",
       "4 253427         1776385      \n",
       "5 255581         1792024      \n",
       "6 259362         1800508      "
      ]
     },
     "metadata": {},
     "output_type": "display_data"
    }
   ],
   "source": [
    "komm <- read.csv(\"../data/kommunedata.csv\")\n",
    "head(komm)"
   ]
  },
  {
   "cell_type": "code",
   "execution_count": 13,
   "id": "41f59077-df52-4206-a109-8f9ca8573284",
   "metadata": {},
   "outputs": [],
   "source": [
    "komm[\"tid\"] <- as.character(komm[\"tid\"])\n",
    "komm[\"region\"] <- as.character(komm[\"region\"])\n",
    "komm[\"kjonn\"] <- as.character(komm[\"kjonn\"])"
   ]
  },
  {
   "cell_type": "markdown",
   "id": "ee073247-e1ee-4993-80d1-79ea215c8234",
   "metadata": {},
   "source": [
    "### Kjør esquisse"
   ]
  },
  {
   "cell_type": "code",
   "execution_count": 10,
   "id": "33bde063-a329-4227-8a06-0e920dfebab5",
   "metadata": {},
   "outputs": [
    {
     "name": "stderr",
     "output_type": "stream",
     "text": [
      "Esquisser launching at: https://sl-jupyter-p.ssb.no/user/coo/proxy/4045/\n",
      "\n",
      "Warning message:\n",
      "“Esquisse may not work properly, try updating RStudio.”\n"
     ]
    }
   ],
   "source": [
    "esquisser_ssb(komm)"
   ]
  },
  {
   "cell_type": "code",
   "execution_count": null,
   "id": "0f08c267-8f2e-48b1-8292-05d7ad4ecc53",
   "metadata": {},
   "outputs": [],
   "source": []
  },
  {
   "cell_type": "code",
   "execution_count": null,
   "id": "f6808c3f-32c8-4f8e-ba9a-d62c88368750",
   "metadata": {},
   "outputs": [],
   "source": []
  }
 ],
 "metadata": {
  "jupytext": {
   "formats": "ipynb,Rmd"
  },
  "kernelspec": {
   "display_name": "R",
   "language": "R",
   "name": "ir"
  },
  "language_info": {
   "codemirror_mode": "r",
   "file_extension": ".r",
   "mimetype": "text/x-r-source",
   "name": "R",
   "pygments_lexer": "r",
   "version": "4.2.2"
  }
 },
 "nbformat": 4,
 "nbformat_minor": 5
}
