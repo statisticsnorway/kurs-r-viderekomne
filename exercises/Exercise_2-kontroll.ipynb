{
 "cells": [
  {
   "cell_type": "markdown",
   "id": "78fe825b-b287-411a-ba0c-d8a72574e636",
   "metadata": {},
   "source": [
    "# Øvelser om kontroll av prosesser"
   ]
  },
  {
   "cell_type": "code",
   "execution_count": null,
   "id": "9ac8cb3e-f707-4bb8-b657-033d7c031cda",
   "metadata": {},
   "outputs": [],
   "source": [
    "renv::autoload()\n",
    "library(tidyverse)"
   ]
  },
  {
   "cell_type": "markdown",
   "id": "d4a0c1d8-6b4f-4ad3-988e-823f98399354",
   "metadata": {},
   "source": [
    "### Bruk følgende bygningstype vektor i det føglende øvelser\n",
    "Bytte til data fra https://www.ssb.no/statbank/table/06513/tableViewLayout1/ "
   ]
  },
  {
   "cell_type": "code",
   "execution_count": 2,
   "id": "61bcb386-52ec-42e6-a367-6561dfd31dc3",
   "metadata": {},
   "outputs": [],
   "source": [
    "bygningstype <- c(\"Enebolig\", \"Tomannsbolig\", \"Rekkehus\", \"Store boligbygg\", \"Bygning for bofellesskap\", \"Andre bygningstyper\")"
   ]
  },
  {
   "cell_type": "markdown",
   "id": "034d8a1f-a0e3-42fa-ae2c-0142e2cac1e9",
   "metadata": {},
   "source": [
    "### 1) Lage en test for å se om \"Enebolig\" er inn i vektoren byggtype (Bruk \"if\"). \n",
    "Skriv ut (for eks.) 'Enebolig er i vektoren' hvis det er, eller en annen melding om det ikke er det."
   ]
  },
  {
   "cell_type": "code",
   "execution_count": null,
   "id": "9b452c68-fea2-4631-ab3c-a518f5397a3a",
   "metadata": {},
   "outputs": [],
   "source": [
    "\n"
   ]
  },
  {
   "cell_type": "markdown",
   "id": "407f97fb-c2d7-4f40-95b3-688ca12f261e",
   "metadata": {},
   "source": [
    "###  2) Lage en for-loop for å gå gjennom elementene i bygningstype vektoren. \n",
    "Hvis elementen er \"Enebolig\", skriv ut \"Dette er en enebolig\". Hvis elementen ikke er \"Enebolig\" skriv ut en alternativ melding."
   ]
  },
  {
   "cell_type": "code",
   "execution_count": null,
   "id": "bd503819-a1e7-49e1-89a9-1658cef7413c",
   "metadata": {},
   "outputs": [],
   "source": [
    "\n"
   ]
  },
  {
   "cell_type": "markdown",
   "id": "0fdfd655-0856-456a-b755-c4726fbe086e",
   "metadata": {},
   "source": [
    "## 3) Lage en for-loop for å skrive ut total antall boliger av de forskjellige Bygningstype fra de følgende tre årsfiler fra [Statbank tabell 06513](https://www.ssb.no/statbank/table/06513/). \n",
    "Les in de tre filene først med følgende kode. Ta en titt på variablene. \n",
    "- **BygnType** er byggningstype 1-5 (999 ukjent) [se klass 31, variant 1062](https://www.ssb.no/klass/klassifikasjoner/31/varianter/1062)\n",
    "- **BruksAreal** er kategorisk variablen for areal \n",
    "- **Tid** er årsgang\n",
    "- **value** er antall boliger\n",
    "\n",
    "Tips: Lag en vektor av de navn av de filene første. Loop gjennom vektoren. Bruk `group_by` og `summarise` for å summere totallene for hvert aar. "
   ]
  },
  {
   "cell_type": "code",
   "execution_count": null,
   "id": "01089feb-b5d2-43d6-b663-48361e554fc3",
   "metadata": {},
   "outputs": [],
   "source": [
    "library(tidyverse)\n",
    "byggtype2020 <- read_csv(\"../data/ByggType_2020.csv\")\n",
    "byggtype2021 <- read_csv(\"../data/ByggType_2021.csv\")\n",
    "byggtype2022 <- read_csv(\"../data/ByggType_2022.csv\")\n",
    "\n",
    "summary(byggtype2020)"
   ]
  },
  {
   "cell_type": "markdown",
   "id": "37aebd0e-12de-49f2-adc6-f6930c494933",
   "metadata": {},
   "source": [
    "\n"
   ]
  }
 ],
 "metadata": {
  "kernelspec": {
   "display_name": "R",
   "language": "R",
   "name": "ir"
  },
  "language_info": {
   "codemirror_mode": "r",
   "file_extension": ".r",
   "mimetype": "text/x-r-source",
   "name": "R",
   "pygments_lexer": "r",
   "version": "4.2.2"
  }
 },
 "nbformat": 4,
 "nbformat_minor": 5
}
