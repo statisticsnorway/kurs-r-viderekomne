{
 "cells": [
  {
   "cell_type": "markdown",
   "id": "f849b57a-339d-4cdd-a9cb-c3ed99eb13f7",
   "metadata": {},
   "source": [
    "# Øvelser om indeskering"
   ]
  },
  {
   "cell_type": "markdown",
   "id": "090bff68-d141-4d8e-8366-23876cfb018d",
   "metadata": {},
   "source": [
    "Indeksering er en måte å velge elementer i vektorer, lister og data i R. Selv om det ikke brukes særlig med tidyverse kan det være nyttig å forstå hvordan det fungere. I R starter indeksering fra 1.\n"
   ]
  },
  {
   "cell_type": "markdown",
   "id": "bb99fe29-73dc-4a68-9150-d1e104bf4050",
   "metadata": {},
   "source": [
    "### 1) Plukke ut elementene 3 og 4 fra bygningstype vektoren\n",
    "Bruk følgene vektoren av bygningstype ([klass 31, variant 1062](https://www.ssb.no/klass/klassifikasjoner/31/varianter/1062)) til øvelser 1- 3."
   ]
  },
  {
   "cell_type": "code",
   "execution_count": null,
   "id": "f5cf8aa0-7286-4207-bb9a-84fd81ab71df",
   "metadata": {},
   "outputs": [],
   "source": [
    "bygningstype <- c(\"Enebolig\", \"Tomannsbolig\", \"Rekkehus\", \"Store boligbygg\", \"Bygning for bofellesskap\", \"Andre bygningstyper\")"
   ]
  },
  {
   "cell_type": "code",
   "execution_count": null,
   "id": "746ae521-e949-4f64-b839-afe2cdc0b56f",
   "metadata": {},
   "outputs": [],
   "source": []
  },
  {
   "cell_type": "markdown",
   "id": "048af661-c47d-4a27-b4e0-58405f5e3f48",
   "metadata": {},
   "source": [
    "### 2) Velge ut alle bortsett fra \"Tomannsbolig\""
   ]
  },
  {
   "cell_type": "code",
   "execution_count": null,
   "id": "174e93f8-ea16-4d43-99a6-56a26949b435",
   "metadata": {},
   "outputs": [],
   "source": [
    "\n",
    "\n"
   ]
  },
  {
   "cell_type": "markdown",
   "id": "c800b883-cbb9-40e8-882d-4e8e795d9ec9",
   "metadata": {},
   "source": [
    "### 3) Velge ut siste elementen i vektoren"
   ]
  },
  {
   "cell_type": "code",
   "execution_count": null,
   "id": "1fe7e940-0b9c-4e00-93f9-cdf9c9e48bd2",
   "metadata": {},
   "outputs": [],
   "source": [
    "\n",
    "\n"
   ]
  },
  {
   "cell_type": "markdown",
   "id": "73f7764a-fd44-4e76-909e-9db1cd9fa460",
   "metadata": {},
   "source": [
    "### 4) Bruk indeksering til å plukke ut kode fra en datasett. \n",
    "Øve med både tall for indeksering av koloner/rad og navn til koloner\n",
    "Bruk følgende dataframe for oppgave 4 - 5. "
   ]
  },
  {
   "cell_type": "code",
   "execution_count": null,
   "id": "9cbe0933-b0fe-41b9-bbbe-d9c030324a6d",
   "metadata": {},
   "outputs": [],
   "source": [
    "bygg_df <- data.frame(bygningstype = bygningstype,\n",
    "          bygningskode = c('01', '02', '03', '04', '05', '06'))\n",
    "head(bygg_df)"
   ]
  },
  {
   "cell_type": "code",
   "execution_count": null,
   "id": "babe2b2b-989c-48b7-920d-0f07f7b29289",
   "metadata": {},
   "outputs": [],
   "source": [
    "\n",
    "\n"
   ]
  },
  {
   "cell_type": "markdown",
   "id": "faea498d-e7df-49dc-835c-ee7ee5e78986",
   "metadata": {},
   "source": [
    "### 5) Endre data frame til en tibble (tidyverse data frame)"
   ]
  },
  {
   "cell_type": "code",
   "execution_count": null,
   "id": "b378c76e-37fd-401f-86cf-669957e05c80",
   "metadata": {},
   "outputs": [],
   "source": []
  }
 ],
 "metadata": {
  "kernelspec": {
   "display_name": "R",
   "language": "R",
   "name": "ir"
  },
  "language_info": {
   "codemirror_mode": "r",
   "file_extension": ".r",
   "mimetype": "text/x-r-source",
   "name": "R",
   "pygments_lexer": "r",
   "version": "4.2.2"
  }
 },
 "nbformat": 4,
 "nbformat_minor": 5
}
