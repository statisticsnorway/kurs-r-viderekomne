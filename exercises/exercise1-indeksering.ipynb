{
 "cells": [
  {
   "cell_type": "markdown",
   "id": "f849b57a-339d-4cdd-a9cb-c3ed99eb13f7",
   "metadata": {},
   "source": [
    "# Øvelser om indeskering"
   ]
  },
  {
   "cell_type": "markdown",
   "id": "090bff68-d141-4d8e-8366-23876cfb018d",
   "metadata": {},
   "source": [
    "Indeksering er en måte å velge elementer i vektorer, lister og data i R. Selv om det ikke brukes særlig med tidyverse kan det være nyttig å forstå hvordan det fungere. I R starter indeksering fra 1.\n",
    "\n",
    "#### Bruk vektoren av bygningstype ([klass 31, variant 1062](https://www.ssb.no/klass/klassifikasjoner/31/varianter/1062)) i de første indekserings oppgavene. "
   ]
  },
  {
   "cell_type": "code",
   "execution_count": 2,
   "id": "f5cf8aa0-7286-4207-bb9a-84fd81ab71df",
   "metadata": {},
   "outputs": [],
   "source": [
    "bygningstype <- c(\"Enebolig\", \"Tomannsbolig\", \"Rekkehus\", \"Store boligbygg\", \"Bygning for bofellesskap\", \"Andre bygningstyper\")"
   ]
  },
  {
   "cell_type": "markdown",
   "id": "bb99fe29-73dc-4a68-9150-d1e104bf4050",
   "metadata": {},
   "source": [
    "### 1) Plukke ut elementene 3 og 4 fra bygningstype vektoren"
   ]
  },
  {
   "cell_type": "code",
   "execution_count": null,
   "id": "e003a7f9-e52e-45c4-a77b-e4495161a81c",
   "metadata": {},
   "outputs": [],
   "source": [
    "\n",
    "\n"
   ]
  },
  {
   "cell_type": "markdown",
   "id": "048af661-c47d-4a27-b4e0-58405f5e3f48",
   "metadata": {},
   "source": [
    "### 2) Velge ut alle bortsett fra \"Tomansbolig\""
   ]
  },
  {
   "cell_type": "code",
   "execution_count": null,
   "id": "174e93f8-ea16-4d43-99a6-56a26949b435",
   "metadata": {},
   "outputs": [],
   "source": [
    "\n",
    "\n"
   ]
  },
  {
   "cell_type": "markdown",
   "id": "c800b883-cbb9-40e8-882d-4e8e795d9ec9",
   "metadata": {},
   "source": [
    "### 3) Velge ut siste elementen i vektoren"
   ]
  },
  {
   "cell_type": "code",
   "execution_count": null,
   "id": "1fe7e940-0b9c-4e00-93f9-cdf9c9e48bd2",
   "metadata": {},
   "outputs": [],
   "source": [
    "\n",
    "\n"
   ]
  },
  {
   "cell_type": "markdown",
   "id": "ade90075-978c-47fd-b4bb-20a51d6ae64c",
   "metadata": {},
   "source": [
    "#### Bruk data frame 'bygg_df' til de neste oppgavene. "
   ]
  },
  {
   "cell_type": "code",
   "execution_count": 3,
   "id": "9cbe0933-b0fe-41b9-bbbe-d9c030324a6d",
   "metadata": {},
   "outputs": [],
   "source": [
    "bygg_df <- data.frame(byggtype = byggtype,\n",
    "          bygningskode = c('01', '02', '03', '04', '05', '06'))"
   ]
  },
  {
   "cell_type": "markdown",
   "id": "73f7764a-fd44-4e76-909e-9db1cd9fa460",
   "metadata": {},
   "source": [
    "### 4) Bruk indeksering til å plukke ut kode for Tomansbolig fra bygg_df. Prøv med både tall/indeks for koloner/rad og navn for koloner"
   ]
  },
  {
   "cell_type": "code",
   "execution_count": null,
   "id": "babe2b2b-989c-48b7-920d-0f07f7b29289",
   "metadata": {},
   "outputs": [],
   "source": [
    "\n",
    "\n"
   ]
  },
  {
   "cell_type": "markdown",
   "id": "faea498d-e7df-49dc-835c-ee7ee5e78986",
   "metadata": {},
   "source": [
    "### 5) Endre data frame til en tibble (tidyverse data frame)"
   ]
  },
  {
   "cell_type": "code",
   "execution_count": null,
   "id": "b378c76e-37fd-401f-86cf-669957e05c80",
   "metadata": {},
   "outputs": [],
   "source": []
  },
  {
   "cell_type": "code",
   "execution_count": 8,
   "id": "9d5b538a-57d6-4298-8e94-0ef71b85fea3",
   "metadata": {},
   "outputs": [],
   "source": [
    "# R for viderekomne\n",
    "#### DAG 1: Øvelse 1 ####\n",
    "\n",
    "# Bruk følgende vektor til øvelsene:\n",
    "byggtype <- c(\"Enebolig\", \"Våningshus\", \"Rekkehus\", \"Terrassehus\")\n",
    "\n",
    "# 1) Bruk indeks for å plukke ut elementene 3 og 4 i vektoren\n",
    "\n",
    "\n",
    "\n",
    "\n",
    "# 2) Bruk indeks for å plukke ut alle bortsett fra element 4\n",
    "\n",
    "\n",
    "\n",
    "\n",
    "# 3) Endre \"Rekkehus\" i vektoren til \"Andre bolig\"\n",
    "\n",
    "\n",
    "\n",
    "\n",
    "# 4) Lage en liste med vektoren byggtype (som brukt ovenfor) og bygningskodene 111, 113, 159, 135\n",
    "\n",
    "\n",
    "\n",
    "\n",
    "# 5) plukk ut kode for element 3 i byggkode fra listen du laget\n",
    "\n",
    "\n",
    "\n",
    "\n",
    "# 6) Endre listen til en tibble (datasett type i tidyverse)\n",
    "\n",
    "\n",
    "\n",
    "\n",
    "\n",
    "\n",
    "\n",
    "\n",
    "\n",
    "\n",
    "\n",
    "\n",
    "\n",
    "\n",
    "\n",
    "#########################################################################################\n",
    "#### DAG 1: Øvelse 2 ####\n",
    "\n",
    "# 1) Trekke en tilfeldig byggetype blant de fire i vektoren som du brukt i øvelse 1.\n",
    "\n",
    "\n",
    "\n",
    "\n",
    "# 2) Bruk set.seed() og kjør tilfeldig trekking 3 ganger for å sjekke at du får samme svar\n",
    "\n",
    "\n",
    "\n",
    "\n",
    "\n",
    "# 3) Sortere byggtype vektoren (Fra tidligere øvlese) på en tilfeldig rekkefølge.\n",
    "# Hint: Lage en vektor av lengde 4 med tilfeldig tall først\n",
    "# Hint: Bruk order og [] for indeks\n",
    "\n",
    "\n",
    "\n",
    "\n",
    "# 4) Bruk if for å teste om \"Enebolig\" er inn i vektoren byggtype. \n",
    "# Hvis det er, skriv ut melding \"Enebolig er i vektoren\". Hvis ikke, skriv en annen melding\n",
    "\n",
    "\n",
    "\n",
    "\n",
    "# 5) Lage en for-loop for å gå gjennom elementene i byggetype vektoren. Hvis elementen er \"Enebolig\", skriv ut\n",
    "#   \"Dette er en enebolig\". Hvis elementen ikke er \"Enebolig\" skriv ut en alternativ melding.  \n",
    "\n",
    "\n",
    "\n",
    "\n",
    "\n"
   ]
  },
  {
   "cell_type": "code",
   "execution_count": null,
   "id": "cb86ec9d-aaf4-4a2f-95a1-fff605c399a3",
   "metadata": {},
   "outputs": [],
   "source": []
  },
  {
   "cell_type": "code",
   "execution_count": null,
   "id": "9f32dbd7-873b-4462-aa68-bc03db9b4982",
   "metadata": {},
   "outputs": [],
   "source": []
  },
  {
   "cell_type": "code",
   "execution_count": null,
   "id": "f458a34d-8594-487b-95bb-459b3d5ca333",
   "metadata": {},
   "outputs": [],
   "source": []
  }
 ],
 "metadata": {
  "kernelspec": {
   "display_name": "R",
   "language": "R",
   "name": "ir"
  },
  "language_info": {
   "codemirror_mode": "r",
   "file_extension": ".r",
   "mimetype": "text/x-r-source",
   "name": "R",
   "pygments_lexer": "r",
   "version": "4.2.2"
  }
 },
 "nbformat": 4,
 "nbformat_minor": 5
}
