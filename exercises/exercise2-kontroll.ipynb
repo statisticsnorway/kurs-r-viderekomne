{
 "cells": [
  {
   "cell_type": "markdown",
   "id": "78fe825b-b287-411a-ba0c-d8a72574e636",
   "metadata": {},
   "source": [
    "# Øvelser om kontroll av prosesser"
   ]
  },
  {
   "cell_type": "markdown",
   "id": "034d8a1f-a0e3-42fa-ae2c-0142e2cac1e9",
   "metadata": {},
   "source": [
    "## 1) Lage en test (med `if`) for å se om 'Enebolig' er inn i en vektor\n",
    " \n",
    "Skriv ut (for eks.) 'Enebolig er i vektoren' hvis det er, eller en annen melding om det ikke er det.\n",
    "\n",
    "Følgende vektor 'bygningstype' kan brukes til øvelser 1 - 2."
   ]
  },
  {
   "cell_type": "code",
   "execution_count": null,
   "id": "21b130fa-52ed-41c8-91cd-77fe0425994c",
   "metadata": {},
   "outputs": [],
   "source": [
    "bygningstype <- c(\"Enebolig\", \"Tomannsbolig\", \"Rekkehus\", \"Store boligbygg\", \"Bygning for bofellesskap\", \"Andre bygningstyper\")"
   ]
  },
  {
   "cell_type": "code",
   "execution_count": null,
   "id": "9b452c68-fea2-4631-ab3c-a518f5397a3a",
   "metadata": {},
   "outputs": [],
   "source": [
    "\n"
   ]
  },
  {
   "cell_type": "markdown",
   "id": "407f97fb-c2d7-4f40-95b3-688ca12f261e",
   "metadata": {},
   "source": [
    "##  2) Lage en for-løkke for å gå gjennom elementene i bygningstype vektoren. \n",
    "Hvis elementen er \"Enebolig\", skriv ut \"Dette er en enebolig\". Hvis elementen ikke er \"Enebolig\" skriv ut en alternativ melding."
   ]
  },
  {
   "cell_type": "code",
   "execution_count": null,
   "id": "bd503819-a1e7-49e1-89a9-1658cef7413c",
   "metadata": {},
   "outputs": [],
   "source": [
    "\n"
   ]
  },
  {
   "cell_type": "markdown",
   "id": "8eb106b8-853a-4db5-8ab4-85b488c12e45",
   "metadata": {},
   "source": [
    "## 3) Les inn data om antall boliger etter bygningstype og bruksareal for 2022 \n",
    "Data er lagret på data mappen og heter ByggType_2022.csv. Data kommer fra [Statbank tabell 06513](https://www.ssb.no/statbank/table/06513/).\n",
    "\n",
    "Variablene i filen:\n",
    "- **BygnType** er byggningstype 01-05 (999 ukjent) [se klass 31, variant 1062](https://www.ssb.no/klass/klassifikasjoner/31/varianter/1062)\n",
    "- **BruksAreal** er kategorisk variablen for areal \n",
    "- **Tid** er årsgang\n",
    "- **value** er antall boliger"
   ]
  },
  {
   "cell_type": "code",
   "execution_count": null,
   "id": "95801ff6-7049-4344-8d7b-2b5abb8f3a59",
   "metadata": {},
   "outputs": [],
   "source": [
    "library(tidyverse)"
   ]
  },
  {
   "cell_type": "code",
   "execution_count": null,
   "id": "83b058c5-211c-498c-91cc-2f5b5cdf0917",
   "metadata": {},
   "outputs": [],
   "source": []
  },
  {
   "cell_type": "markdown",
   "id": "b3215069-b870-4779-8203-fe6fceff0841",
   "metadata": {},
   "source": [
    "## 4) Oppsummere antall bolig etter bygningstype for 2022\n",
    "Hint: Bruk `group_by` og `summarize` fra tidyverse"
   ]
  },
  {
   "cell_type": "code",
   "execution_count": null,
   "id": "808e42b2-c6f5-4918-b1de-dd3da0750d65",
   "metadata": {},
   "outputs": [],
   "source": []
  },
  {
   "cell_type": "markdown",
   "id": "0fdfd655-0856-456a-b755-c4726fbe086e",
   "metadata": {},
   "source": [
    "## 5) Lage en for-løkke for å lese inn data om antall bolig for årene 2020 - 2022. Skriv ut totall antall boliger etter bygningstype for hvert år\n",
    "Hint: Bruk følgende kode for å lage en vektor av filnavn som kan loopes gjennom. Bruk kode du har laget i oppgaver 3 og 4 til å lese inn og oppsummere hver fil. "
   ]
  },
  {
   "cell_type": "code",
   "execution_count": null,
   "id": "5eb5ecee-c27a-44e6-a133-04ff1dde0785",
   "metadata": {},
   "outputs": [],
   "source": [
    "aarsfiler <- paste0(\"../data/ByggType_\", 2020:2022, \".csv\")\n",
    "aarsfiler"
   ]
  },
  {
   "cell_type": "code",
   "execution_count": null,
   "id": "01089feb-b5d2-43d6-b663-48361e554fc3",
   "metadata": {},
   "outputs": [],
   "source": []
  },
  {
   "cell_type": "markdown",
   "id": "c791b90b-d059-41c4-9cdb-d145065fedaa",
   "metadata": {},
   "source": [
    "## 6) Lage den samme for-løkke men lagre oppsummering til en dataframe/tibble (istedenfor å skrive ut)\n",
    "Hint: \n",
    "- Sett opp et objekt som skal være dataframe uten innhold først (for eks. `antall_boliger_oversikt <- NULL`)\n",
    "- Bruk en for-løkke for å lese inn filene og oppsummerer som før.\n",
    "- Bruk `bind_cols` for å legge inn oppsummering til objektet (antall_boliger_oversikt).\n"
   ]
  },
  {
   "cell_type": "code",
   "execution_count": null,
   "id": "20b5918f-d858-4f05-9608-b5f13f6b441c",
   "metadata": {},
   "outputs": [],
   "source": []
  },
  {
   "cell_type": "markdown",
   "id": "37aebd0e-12de-49f2-adc6-f6930c494933",
   "metadata": {},
   "source": [
    "\n"
   ]
  }
 ],
 "metadata": {
  "kernelspec": {
   "display_name": "R",
   "language": "R",
   "name": "ir"
  },
  "language_info": {
   "codemirror_mode": "r",
   "file_extension": ".r",
   "mimetype": "text/x-r-source",
   "name": "R",
   "pygments_lexer": "r",
   "version": "4.2.2"
  }
 },
 "nbformat": 4,
 "nbformat_minor": 5
}
