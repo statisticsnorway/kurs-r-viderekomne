{
 "cells": [
  {
   "cell_type": "markdown",
   "id": "c790f85c-8e8e-4069-95cb-e496889e5242",
   "metadata": {},
   "source": [
    "# Øvelser om funksjoner"
   ]
  },
  {
   "cell_type": "markdown",
   "id": "8bc9ebc1-fe95-4828-b002-a08a0f7c1733",
   "metadata": {},
   "source": [
    "## 1) Lage en funksjon som returnere 'Enebolig' eller 'Annen' baserte på det som sendes inn til funksjonen.\n",
    "Funksjonen skal ha en parameter for boligtype kode ('01','02',...). Funksjonen skal returnere \"Enebolig\" om koden er '01', ellers skal det returnere \"Annen\".\n",
    "\n",
    "Bruk `ifelse` (ikke `if` og `else`) så at det kan ta imot vektorer."
   ]
  },
  {
   "cell_type": "code",
   "execution_count": null,
   "id": "82b421e7-9ff7-40c6-907d-115bc48f17a4",
   "metadata": {},
   "outputs": [],
   "source": [
    "\n"
   ]
  },
  {
   "cell_type": "markdown",
   "id": "4e1682c0-91ab-4f30-be21-13ae46d48681",
   "metadata": {},
   "source": [
    "## 2) Teste funksjonen fra 1) ved å kalle det og sende inn '01' eller '03'. Sjekk at funksjonen returnerer riktig svar\n",
    "Fungere det også for vektorer? dvs. når du sende inn `c('01', '03')` til funksjonen.\n"
   ]
  },
  {
   "cell_type": "code",
   "execution_count": null,
   "id": "e353a0d4-14f3-433f-86dc-cc231829be22",
   "metadata": {},
   "outputs": [],
   "source": [
    "\n"
   ]
  },
  {
   "cell_type": "markdown",
   "id": "db93650c-8167-4c43-8ac4-32043e467e59",
   "metadata": {},
   "source": [
    "## 3) Bruke funksjonen fra 1) til å lage en ny variabel for bygningstype på 2022 data.  \n",
    "Les inn filen som heter \"ByggType_2022.csv\" som ligger i data mappen. Bruk deretter `mutate` sammen med funksjonen du har skreveet for å lage variablen."
   ]
  },
  {
   "cell_type": "code",
   "execution_count": null,
   "id": "87101cc9-21f4-4d6d-9720-0f13bc870531",
   "metadata": {},
   "outputs": [],
   "source": [
    "libary(tidyverse)"
   ]
  },
  {
   "cell_type": "code",
   "execution_count": null,
   "id": "22efc3fc-101f-4cce-9387-9b9ae3a116f2",
   "metadata": {},
   "outputs": [],
   "source": []
  },
  {
   "cell_type": "markdown",
   "id": "97da9eea-3824-401d-80b4-3c14a87d08df",
   "metadata": {},
   "source": [
    "## 4) Lage en ny variant av funksjonen med to parameter. \n",
    "Den første parameteren skal være det samme som før.\n",
    "Den andre paremateren skal spesifisere hvilket språk skal returneres, for eks spesifisere \"en\" for engelsk eller \"nb\" for bokmål. \n",
    "\n",
    "Hvis engelsk er valgt skal den nye funksjonen returnerer \"Detached house\" eller \"Other house\"."
   ]
  },
  {
   "cell_type": "code",
   "execution_count": null,
   "id": "3604f528-c29c-4c77-8f85-743297d69f93",
   "metadata": {},
   "outputs": [],
   "source": [
    "\n"
   ]
  },
  {
   "cell_type": "markdown",
   "id": "791b30ae-6187-4362-bdb9-dedaa54ed3c6",
   "metadata": {},
   "source": [
    "## 5) Sette en default verdi i funksjonen du skrev i 4) for å returnere norsk hivs ikke språk er spesifisert."
   ]
  },
  {
   "cell_type": "code",
   "execution_count": null,
   "id": "98f592de-fb8b-4bed-9b6d-7bd725ac5e79",
   "metadata": {},
   "outputs": [],
   "source": [
    "\n"
   ]
  },
  {
   "cell_type": "markdown",
   "id": "b80afd45-758f-4786-a5a9-6edd34ecbd6d",
   "metadata": {},
   "source": [
    "## Ekstra: Lage en for-løkke som brukes funksjonen fra 5). Lage en oppsummerings tabell over antall boliger etter Enebolig/Annen klassifisering for årene 2020-2022."
   ]
  },
  {
   "cell_type": "code",
   "execution_count": null,
   "id": "427d73ce-bb84-4ecd-8a34-a2ab15d801f6",
   "metadata": {},
   "outputs": [],
   "source": []
  }
 ],
 "metadata": {
  "kernelspec": {
   "display_name": "R",
   "language": "R",
   "name": "ir"
  },
  "language_info": {
   "codemirror_mode": "r",
   "file_extension": ".r",
   "mimetype": "text/x-r-source",
   "name": "R",
   "pygments_lexer": "r",
   "version": "4.2.2"
  }
 },
 "nbformat": 4,
 "nbformat_minor": 5
}
