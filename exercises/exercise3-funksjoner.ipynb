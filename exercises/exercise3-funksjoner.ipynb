{
 "cells": [
  {
   "cell_type": "markdown",
   "id": "c790f85c-8e8e-4069-95cb-e496889e5242",
   "metadata": {},
   "source": [
    "# Øvelser om funksjoner"
   ]
  },
  {
   "cell_type": "markdown",
   "id": "8bc9ebc1-fe95-4828-b002-a08a0f7c1733",
   "metadata": {},
   "source": [
    "## 1) Lage en funksjon med en parameter for bygningstype\n",
    "Funksjonen skal returnere \"Enebolig\" om koden er '01', ellers skal det returnere \"Annen\"\n",
    "Bruk ifelse (ikke if og else) så at det kan ta imot vektorer"
   ]
  },
  {
   "cell_type": "code",
   "execution_count": null,
   "id": "82b421e7-9ff7-40c6-907d-115bc48f17a4",
   "metadata": {},
   "outputs": [],
   "source": []
  },
  {
   "cell_type": "markdown",
   "id": "4e1682c0-91ab-4f30-be21-13ae46d48681",
   "metadata": {},
   "source": [
    "## 2) Kjøre funksjon for koden '01' og koden '03' for å sjekke at funksjonen returnerer riktig svar\n",
    "Fungere det også for vektorer? dvs. når du sende inn `c('01', '03')` til funksjonen.\n"
   ]
  },
  {
   "cell_type": "code",
   "execution_count": null,
   "id": "e353a0d4-14f3-433f-86dc-cc231829be22",
   "metadata": {},
   "outputs": [],
   "source": [
    "\n"
   ]
  },
  {
   "cell_type": "markdown",
   "id": "db93650c-8167-4c43-8ac4-32043e467e59",
   "metadata": {},
   "source": [
    "## 3) Bruke funksjonen fra 2 til å lage en ny variabel for bygningstype på \"ByggType_2022.csv\" data.  \n",
    "Tips: les inn data ved `read_csv` (fra tidyverse). Deretter bruk indeksering av kolonner eller `mutate` for å lage variablen.\n"
   ]
  },
  {
   "cell_type": "code",
   "execution_count": null,
   "id": "87101cc9-21f4-4d6d-9720-0f13bc870531",
   "metadata": {},
   "outputs": [],
   "source": []
  },
  {
   "cell_type": "markdown",
   "id": "97da9eea-3824-401d-80b4-3c14a87d08df",
   "metadata": {},
   "source": [
    "## 4) Lage en ny variant av funksjon med to parameter. \n",
    "Den første parameteren skal være det samme som før.\n",
    "Den andre paremateren skal ta \"en\" eller \"nb\". Denne skal styre hvilken språk skal returners. \n",
    "Skriv den nye funksjonen for å returnere engelsk \"Detached house\" eller \"Other house\" hvis \"en\" er spesifisert\n"
   ]
  },
  {
   "cell_type": "code",
   "execution_count": null,
   "id": "3604f528-c29c-4c77-8f85-743297d69f93",
   "metadata": {},
   "outputs": [],
   "source": []
  },
  {
   "cell_type": "markdown",
   "id": "791b30ae-6187-4362-bdb9-dedaa54ed3c6",
   "metadata": {},
   "source": [
    "## 5) Sette en default verdi i funksjonen du skrev i 4 for språk til \"nb\"."
   ]
  },
  {
   "cell_type": "code",
   "execution_count": null,
   "id": "98f592de-fb8b-4bed-9b6d-7bd725ac5e79",
   "metadata": {},
   "outputs": [],
   "source": []
  }
 ],
 "metadata": {
  "kernelspec": {
   "display_name": "R",
   "language": "R",
   "name": "ir"
  },
  "language_info": {
   "codemirror_mode": "r",
   "file_extension": ".r",
   "mimetype": "text/x-r-source",
   "name": "R",
   "pygments_lexer": "r",
   "version": "4.2.2"
  }
 },
 "nbformat": 4,
 "nbformat_minor": 5
}
